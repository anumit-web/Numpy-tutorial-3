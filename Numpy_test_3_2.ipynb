{
  "nbformat": 4,
  "nbformat_minor": 0,
  "metadata": {
    "colab": {
      "provenance": []
    },
    "kernelspec": {
      "name": "python3",
      "display_name": "Python 3"
    },
    "language_info": {
      "name": "python"
    }
  },
  "cells": [
    {
      "cell_type": "markdown",
      "source": [
        "# Numpy"
      ],
      "metadata": {
        "id": "3FiJw7jGoGFP"
      }
    },
    {
      "cell_type": "markdown",
      "source": [
        "NumPy is a Python library used for working with arrays"
      ],
      "metadata": {
        "id": "cMkx-qF_zrxK"
      }
    },
    {
      "cell_type": "markdown",
      "source": [
        "linear algebra\n",
        "\n",
        "pandas is built in top of numpy"
      ],
      "metadata": {
        "id": "qA0Hm9NCoePM"
      }
    },
    {
      "cell_type": "markdown",
      "source": [
        "NumPy was created in 2005 by Travis Oliphant"
      ],
      "metadata": {
        "id": "XEy9yJmx0Brj"
      }
    },
    {
      "cell_type": "code",
      "source": [
        "import numpy as np"
      ],
      "metadata": {
        "id": "PooGTn4vp0Ci"
      },
      "execution_count": 6,
      "outputs": []
    },
    {
      "cell_type": "markdown",
      "source": [
        "An ndarray is a multi-dimensional array of items of the same type and size"
      ],
      "metadata": {
        "id": "WcII1-mp0oMG"
      }
    },
    {
      "cell_type": "code",
      "source": [
        "np\n",
        "\n",
        "# Create an ndarray from a list\n",
        "list1 = [1,2,3,4,5]\n",
        "arr2 = np.array(list1)\n",
        "print(arr2)\n",
        "\n",
        "arr3 = np.array([1, 2, 3, 4, 5])\n",
        "\n",
        "print(arr3)  # Output: [1 2 3 4 5]\n",
        "print(type(arr3))  # Output: <class 'numpy.ndarray'>"
      ],
      "metadata": {
        "colab": {
          "base_uri": "https://localhost:8080/"
        },
        "id": "-ZUvvAq62blA",
        "outputId": "1d85d6a7-4e4a-442a-d385-f6700830989c"
      },
      "execution_count": 7,
      "outputs": [
        {
          "output_type": "stream",
          "name": "stdout",
          "text": [
            "[1 2 3 4 5]\n",
            "[1 2 3 4 5]\n",
            "<class 'numpy.ndarray'>\n"
          ]
        }
      ]
    },
    {
      "cell_type": "markdown",
      "source": [
        "ndarray Attributes"
      ],
      "metadata": {
        "id": "18hhBVxK3HPb"
      }
    },
    {
      "cell_type": "markdown",
      "source": [
        "Here are some important attributes of an ndarray:\n",
        "\n",
        "shape: The shape of the array (number of rows and columns)\n",
        "\n",
        "size: The total number of elements in the array\n",
        "\n",
        "dtype: The data type of the array elements\n",
        "\n",
        "ndim: The number of dimensions in the array"
      ],
      "metadata": {
        "id": "bBZfqqE23cJ-"
      }
    },
    {
      "cell_type": "code",
      "source": [
        "arr = np.array([1, 2, 3, 4, 5])\n",
        "\n",
        "print(arr.shape)  # Output: (5,)\n",
        "print(arr.size)  # Output: 5\n",
        "print(arr.dtype)  # Output: int64\n",
        "print(arr.ndim)  # Output: 1"
      ],
      "metadata": {
        "colab": {
          "base_uri": "https://localhost:8080/"
        },
        "id": "8If-y8dV4YX0",
        "outputId": "3035def1-807c-40ca-a61f-728100e51bf0"
      },
      "execution_count": 8,
      "outputs": [
        {
          "output_type": "stream",
          "name": "stdout",
          "text": [
            "(5,)\n",
            "5\n",
            "int64\n",
            "1\n"
          ]
        }
      ]
    }
  ]
}