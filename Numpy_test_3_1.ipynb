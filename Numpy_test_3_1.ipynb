{
  "nbformat": 4,
  "nbformat_minor": 0,
  "metadata": {
    "colab": {
      "provenance": [],
      "include_colab_link": true
    },
    "kernelspec": {
      "name": "python3",
      "display_name": "Python 3"
    },
    "language_info": {
      "name": "python"
    }
  },
  "cells": [
    {
      "cell_type": "markdown",
      "metadata": {
        "id": "view-in-github",
        "colab_type": "text"
      },
      "source": [
        "<a href=\"https://colab.research.google.com/github/anumit-web/Numpy-tutorial-3/blob/main/Numpy_test_3_1.ipynb\" target=\"_parent\"><img src=\"https://colab.research.google.com/assets/colab-badge.svg\" alt=\"Open In Colab\"/></a>"
      ]
    },
    {
      "cell_type": "markdown",
      "source": [
        "# Numpy"
      ],
      "metadata": {
        "id": "3FiJw7jGoGFP"
      }
    },
    {
      "cell_type": "markdown",
      "source": [
        "NumPy is a Python library used for working with arrays"
      ],
      "metadata": {
        "id": "cMkx-qF_zrxK"
      }
    },
    {
      "cell_type": "markdown",
      "source": [
        "linear algebra\n",
        "\n",
        "pandas is built in top of numpy"
      ],
      "metadata": {
        "id": "qA0Hm9NCoePM"
      }
    },
    {
      "cell_type": "markdown",
      "source": [
        "NumPy was created in 2005 by Travis Oliphant"
      ],
      "metadata": {
        "id": "XEy9yJmx0Brj"
      }
    },
    {
      "cell_type": "code",
      "source": [
        "import numpy as np"
      ],
      "metadata": {
        "id": "PooGTn4vp0Ci"
      },
      "execution_count": null,
      "outputs": []
    },
    {
      "cell_type": "markdown",
      "source": [
        "An ndarray is a multi-dimensional array of items of the same type and size"
      ],
      "metadata": {
        "id": "WcII1-mp0oMG"
      }
    },
    {
      "cell_type": "code",
      "source": [
        "np\n",
        "\n",
        "# Create an ndarray from a list\n",
        "list1 = [1,2,3,4,5]\n",
        "arr2 = np.array(list1)\n",
        "print(arr2)\n",
        "\n",
        "arr3 = np.array([1, 2, 3, 4, 5])\n",
        "\n",
        "print(arr3)  # Output: [1 2 3 4 5]\n",
        "print(type(arr3))  # Output: <class 'numpy.ndarray'>"
      ],
      "metadata": {
        "colab": {
          "base_uri": "https://localhost:8080/"
        },
        "id": "-ZUvvAq62blA",
        "outputId": "93483d37-57e2-40e7-f91f-2e270756b319"
      },
      "execution_count": null,
      "outputs": [
        {
          "metadata": {
            "tags": null
          },
          "name": "stdout",
          "output_type": "stream",
          "text": [
            "[1 2 3 4 5]\n",
            "[1 2 3 4 5]\n",
            "<class 'numpy.ndarray'>\n"
          ]
        }
      ]
    },
    {
      "cell_type": "markdown",
      "source": [
        "ndarray Attributes"
      ],
      "metadata": {
        "id": "18hhBVxK3HPb"
      }
    },
    {
      "cell_type": "markdown",
      "source": [
        "Here are some important attributes of an ndarray:\n",
        "\n",
        "shape: The shape of the array (number of rows and columns)\n",
        "\n",
        "size: The total number of elements in the array\n",
        "\n",
        "dtype: The data type of the array elements\n",
        "\n",
        "ndim: The number of dimensions in the array"
      ],
      "metadata": {
        "id": "bBZfqqE23cJ-"
      }
    },
    {
      "cell_type": "code",
      "source": [
        "arr = np.array([1, 2, 3, 4, 5])\n",
        "\n",
        "print(arr.shape)  # Output: (5,)\n",
        "print(arr.size)  # Output: 5\n",
        "print(arr.dtype)  # Output: int64\n",
        "print(arr.ndim)  # Output: 1"
      ],
      "metadata": {
        "id": "8If-y8dV4YX0"
      },
      "execution_count": null,
      "outputs": []
    }
  ]
}