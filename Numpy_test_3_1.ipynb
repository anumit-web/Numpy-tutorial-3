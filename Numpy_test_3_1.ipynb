{
  "nbformat": 4,
  "nbformat_minor": 0,
  "metadata": {
    "colab": {
      "provenance": [],
      "include_colab_link": true
    },
    "kernelspec": {
      "name": "python3",
      "display_name": "Python 3"
    },
    "language_info": {
      "name": "python"
    }
  },
  "cells": [
    {
      "cell_type": "markdown",
      "metadata": {
        "id": "view-in-github",
        "colab_type": "text"
      },
      "source": [
        "<a href=\"https://colab.research.google.com/github/anumit-web/Numpy-tutorial-3/blob/main/Numpy_test_3_1.ipynb\" target=\"_parent\"><img src=\"https://colab.research.google.com/assets/colab-badge.svg\" alt=\"Open In Colab\"/></a>"
      ]
    },
    {
      "cell_type": "markdown",
      "source": [
        "# Numpy"
      ],
      "metadata": {
        "id": "3FiJw7jGoGFP"
      }
    },
    {
      "cell_type": "markdown",
      "source": [
        "NumPy is a Python library used for working with arrays"
      ],
      "metadata": {
        "id": "cMkx-qF_zrxK"
      }
    },
    {
      "cell_type": "markdown",
      "source": [
        "linear algebra\n",
        "\n",
        "pandas is built in top of numpy"
      ],
      "metadata": {
        "id": "qA0Hm9NCoePM"
      }
    },
    {
      "cell_type": "markdown",
      "source": [
        "NumPy was created in 2005 by Travis Oliphant"
      ],
      "metadata": {
        "id": "XEy9yJmx0Brj"
      }
    },
    {
      "cell_type": "code",
      "source": [
        "import numpy as np"
      ],
      "metadata": {
        "id": "PooGTn4vp0Ci"
      },
      "execution_count": null,
      "outputs": []
    },
    {
      "cell_type": "markdown",
      "source": [
        "An ndarray is a multi-dimensional array of items of the same type and size"
      ],
      "metadata": {
        "id": "WcII1-mp0oMG"
      }
    },
    {
      "cell_type": "code",
      "source": [],
      "metadata": {
        "id": "9LkW8tFA0o_m"
      },
      "execution_count": null,
      "outputs": []
    }
  ]
}